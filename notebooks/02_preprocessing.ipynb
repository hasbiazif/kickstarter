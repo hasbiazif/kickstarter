{
 "cells": [
  {
   "cell_type": "code",
   "execution_count": 2,
   "id": "6ff30775",
   "metadata": {},
   "outputs": [],
   "source": [
    "import pandas as pd"
   ]
  },
  {
   "cell_type": "code",
   "execution_count": 3,
   "id": "970c89de",
   "metadata": {},
   "outputs": [],
   "source": [
    "df = pd.read_csv(r\"C:\\Mini_H\\kickstarter\\data\\kickstarter.csv\")"
   ]
  },
  {
   "cell_type": "code",
   "execution_count": 3,
   "id": "5256ba72",
   "metadata": {},
   "outputs": [
    {
     "name": "stdout",
     "output_type": "stream",
     "text": [
      "['successful' 'failed' 'live' 'canceled' 'submitted' 'started' 'suspended']\n"
     ]
    }
   ],
   "source": [
    "print(df[\"state\"].unique())"
   ]
  },
  {
   "cell_type": "code",
   "execution_count": 4,
   "id": "9eef46bb",
   "metadata": {},
   "outputs": [],
   "source": [
    "## karena hanya butuh binary saja sukses atau tidak jadi ambil hanya 2\n",
    "\n",
    "df_model = df[df[\"state\"].isin([\"successful\", \"failed\"])].copy()"
   ]
  },
  {
   "cell_type": "code",
   "execution_count": 5,
   "id": "c7e405e9",
   "metadata": {},
   "outputs": [
    {
     "name": "stdout",
     "output_type": "stream",
     "text": [
      "Shape setelah filter: (222350, 43)\n",
      "target\n",
      "1    0.656443\n",
      "0    0.343557\n",
      "Name: proportion, dtype: float64\n"
     ]
    }
   ],
   "source": [
    "## encode target\n",
    "df_model[\"target\"] = (df_model[\"state\"] == \"successful\").astype(int)\n",
    "\n",
    "print(\"Shape setelah filter:\", df_model.shape)\n",
    "print(df_model[\"target\"].value_counts(normalize=True))"
   ]
  },
  {
   "cell_type": "code",
   "execution_count": 6,
   "id": "8ed0cc56",
   "metadata": {},
   "outputs": [],
   "source": [
    "## rubah timestampp ke datetime\n",
    "df_model[\"launched_at\"] = pd.to_datetime(df_model[\"launched_at\"], unit=\"s\")\n",
    "df_model[\"deadline\"] = pd.to_datetime(df_model[\"deadline\"], unit=\"s\")"
   ]
  },
  {
   "cell_type": "code",
   "execution_count": 7,
   "id": "7ad265db",
   "metadata": {},
   "outputs": [],
   "source": [
    "## durasi kampanye\n",
    "df_model[\"duration_days\"] = (df_model[\"deadline\"] - df_model[\"launched_at\"]).dt.days"
   ]
  },
  {
   "cell_type": "code",
   "execution_count": 11,
   "id": "b09f10e3",
   "metadata": {},
   "outputs": [],
   "source": [
    "## target goal dalam USD\n",
    "df_model[\"usd_goal_real\"] = df_model[\"goal\"] * df_model[\"static_usd_rate\"]"
   ]
  },
  {
   "cell_type": "code",
   "execution_count": 12,
   "id": "a10725aa",
   "metadata": {},
   "outputs": [],
   "source": [
    "## panjang tesk bulb\n",
    "df_model[\"title_len\"] = df_model[\"name\"].astype(str).str.len()\n",
    "df_model[\"blurb_len\"] = df_model[\"blurb\"].astype(str).str.len()"
   ]
  },
  {
   "cell_type": "code",
   "execution_count": 13,
   "id": "5aec7f36",
   "metadata": {},
   "outputs": [
    {
     "name": "stdout",
     "output_type": "stream",
     "text": [
      "       duration_days  usd_goal_real      title_len      blurb_len\n",
      "count  222350.000000   2.223500e+05  222350.000000  222350.000000\n",
      "mean       32.924605   3.128449e+04      35.506530     103.807826\n",
      "std        12.706842   9.282272e+05      15.545039      31.653932\n",
      "min         1.000000   1.000000e-02       1.000000       1.000000\n",
      "25%        29.000000   1.217983e+03      22.000000      83.000000\n",
      "50%        30.000000   4.150059e+03      35.000000     116.000000\n",
      "75%        35.000000   1.080544e+04      49.000000     130.000000\n",
      "max       120.000000   1.314698e+08      85.000000     151.000000\n"
     ]
    }
   ],
   "source": [
    "print(df_model[[\"duration_days\",\"usd_goal_real\",\"title_len\",\"blurb_len\"]].describe())"
   ]
  },
  {
   "cell_type": "markdown",
   "id": "6747cf3c",
   "metadata": {},
   "source": [
    "1. duration_days (lama kampanye)  \n",
    "Rata-rata: 32.9 hari → sesuai pola Kickstarter (kampanye biasanya 30 hari).  \n",
    "Min: 1 hari → mungkin kampanye eksperimen / data error.  \n",
    "Max: 120 hari → ada kampanye yang panjang sekali (padahal jarang sukses).  \n",
    "Insight: Mayoritas kampanye berlangsung 29–35 hari, menunjukkan standar optimal sekitar sebulan.  \n",
    "  \n",
    "2. usd_goal_real (target dana USD)  \n",
    "Median: $4,150 (cukup realistis).  \n",
    "Mean: $31,284 → jauh lebih tinggi dari median, artinya ada outlier target sangat besar.  \n",
    "Max: $131 juta 😅 → jelas outlier, biasanya proyek ambisius yang gagal.  \n",
    "Insight: Target dana realistis cenderung di bawah $10k, sementara target ratusan ribu/juta jarang tercapai.  \n",
    "  \n",
    "3. title_len (panjang judul)  \n",
    "Median: 35 karakter → sekitar 5–6 kata, cukup ringkas.  \n",
    "Max: 85 karakter → judul panjang sekali, bisa membingungkan.  \n",
    "Insight: Judul proyek idealnya 20–50 karakter (padat, jelas, mudah diingat).  \n",
    "  \n",
    "4. blurb_len (panjang deskripsi singkat)  \n",
    "Median: 116 karakter → cukup detail untuk pitch singkat.  \n",
    "Max: 151 karakter (mungkin ada batas dari Kickstarter).  \n",
    "Insight: Blurb biasanya 80–130 karakter, cukup untuk menjelaskan inti proyek.  \n",
    "  \n",
    "Kesimpulan sementara :  \n",
    "Mayoritas kampanye sesuai “aturan emas” Kickstarter: durasi ~30 hari, target goal moderat, judul ringkas, blurb jelas.  \n",
    "Outlier ada pada target dana sangat tinggi (hingga >100 juta USD) → perlu di-handle supaya model tidak bias.  \n",
    "Fitur yang kita buat sudah masuk akal untuk prediksi sukses/gagal."
   ]
  }
 ],
 "metadata": {
  "kernelspec": {
   "display_name": "kick_env",
   "language": "python",
   "name": "python3"
  },
  "language_info": {
   "codemirror_mode": {
    "name": "ipython",
    "version": 3
   },
   "file_extension": ".py",
   "mimetype": "text/x-python",
   "name": "python",
   "nbconvert_exporter": "python",
   "pygments_lexer": "ipython3",
   "version": "3.13.7"
  }
 },
 "nbformat": 4,
 "nbformat_minor": 5
}
